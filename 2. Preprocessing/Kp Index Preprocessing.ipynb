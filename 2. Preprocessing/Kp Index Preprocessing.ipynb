{
 "cells": [
  {
   "cell_type": "code",
   "execution_count": 19,
   "id": "0a7d4fc4",
   "metadata": {},
   "outputs": [],
   "source": [
    "import pandas as pd\n",
    "import numpy as np\n",
    "import matplotlib.pyplot as plt\n",
    "from statsmodels.tsa.seasonal import seasonal_decompose\n",
    "from scipy import stats\n",
    "from lazypredict.Supervised import LazyRegressor\n",
    "from sklearn.tree import DecisionTreeRegressor\n",
    "from sklearn.metrics import mean_squared_error, mean_absolute_error, r2_score\n",
    "import warnings\n",
    "warnings.filterwarnings('ignore')"
   ]
  },
  {
   "cell_type": "code",
   "execution_count": 33,
   "id": "2ff651cb",
   "metadata": {},
   "outputs": [],
   "source": [
    "parent_dir = \"Kp and ap since 1932, daily updated.txt\"\n",
    "num_of_lines_to_skip = 29"
   ]
  },
  {
   "cell_type": "code",
   "execution_count": 34,
   "id": "cc6e5394",
   "metadata": {},
   "outputs": [],
   "source": [
    "geomagnetic_activity_dataset = pd.read_csv(parent_dir, skiprows =num_of_lines_to_skip,sep = r' +',engine = 'python')"
   ]
  },
  {
   "cell_type": "code",
   "execution_count": 35,
   "id": "eaaa6112",
   "metadata": {},
   "outputs": [
    {
     "data": {
      "text/html": [
       "<div>\n",
       "<style scoped>\n",
       "    .dataframe tbody tr th:only-of-type {\n",
       "        vertical-align: middle;\n",
       "    }\n",
       "\n",
       "    .dataframe tbody tr th {\n",
       "        vertical-align: top;\n",
       "    }\n",
       "\n",
       "    .dataframe thead th {\n",
       "        text-align: right;\n",
       "    }\n",
       "</style>\n",
       "<table border=\"1\" class=\"dataframe\">\n",
       "  <thead>\n",
       "    <tr style=\"text-align: right;\">\n",
       "      <th></th>\n",
       "      <th>#YYY</th>\n",
       "      <th>MM</th>\n",
       "      <th>DD</th>\n",
       "      <th>hh.h</th>\n",
       "      <th>hh._m</th>\n",
       "      <th>days</th>\n",
       "      <th>days_m</th>\n",
       "      <th>Kp</th>\n",
       "      <th>ap</th>\n",
       "      <th>D</th>\n",
       "    </tr>\n",
       "  </thead>\n",
       "  <tbody>\n",
       "    <tr>\n",
       "      <th>0</th>\n",
       "      <td>1932</td>\n",
       "      <td>1</td>\n",
       "      <td>1</td>\n",
       "      <td>0.00</td>\n",
       "      <td>1.50</td>\n",
       "      <td>0.00</td>\n",
       "      <td>0.06</td>\n",
       "      <td>3.33</td>\n",
       "      <td>18</td>\n",
       "      <td>1</td>\n",
       "    </tr>\n",
       "    <tr>\n",
       "      <th>1</th>\n",
       "      <td>1932</td>\n",
       "      <td>1</td>\n",
       "      <td>1</td>\n",
       "      <td>3.00</td>\n",
       "      <td>4.50</td>\n",
       "      <td>0.12</td>\n",
       "      <td>0.19</td>\n",
       "      <td>2.67</td>\n",
       "      <td>12</td>\n",
       "      <td>1</td>\n",
       "    </tr>\n",
       "    <tr>\n",
       "      <th>2</th>\n",
       "      <td>1932</td>\n",
       "      <td>1</td>\n",
       "      <td>1</td>\n",
       "      <td>6.00</td>\n",
       "      <td>7.50</td>\n",
       "      <td>0.25</td>\n",
       "      <td>0.31</td>\n",
       "      <td>2.33</td>\n",
       "      <td>9</td>\n",
       "      <td>1</td>\n",
       "    </tr>\n",
       "    <tr>\n",
       "      <th>3</th>\n",
       "      <td>1932</td>\n",
       "      <td>1</td>\n",
       "      <td>1</td>\n",
       "      <td>9.00</td>\n",
       "      <td>10.50</td>\n",
       "      <td>0.38</td>\n",
       "      <td>0.44</td>\n",
       "      <td>2.67</td>\n",
       "      <td>12</td>\n",
       "      <td>1</td>\n",
       "    </tr>\n",
       "    <tr>\n",
       "      <th>4</th>\n",
       "      <td>1932</td>\n",
       "      <td>1</td>\n",
       "      <td>1</td>\n",
       "      <td>12.00</td>\n",
       "      <td>13.50</td>\n",
       "      <td>0.50</td>\n",
       "      <td>0.56</td>\n",
       "      <td>3.33</td>\n",
       "      <td>18</td>\n",
       "      <td>1</td>\n",
       "    </tr>\n",
       "  </tbody>\n",
       "</table>\n",
       "</div>"
      ],
      "text/plain": [
       "   #YYY  MM  DD  hh.h  hh._m  days  days_m   Kp  ap  D\n",
       "0  1932   1   1  0.00   1.50  0.00    0.06 3.33  18  1\n",
       "1  1932   1   1  3.00   4.50  0.12    0.19 2.67  12  1\n",
       "2  1932   1   1  6.00   7.50  0.25    0.31 2.33   9  1\n",
       "3  1932   1   1  9.00  10.50  0.38    0.44 2.67  12  1\n",
       "4  1932   1   1 12.00  13.50  0.50    0.56 3.33  18  1"
      ]
     },
     "execution_count": 35,
     "metadata": {},
     "output_type": "execute_result"
    }
   ],
   "source": [
    "geomagnetic_activity_dataset.head()"
   ]
  },
  {
   "cell_type": "code",
   "execution_count": 36,
   "id": "6f6aba77",
   "metadata": {},
   "outputs": [
    {
     "data": {
      "text/plain": [
       "(268112, 10)"
      ]
     },
     "execution_count": 36,
     "metadata": {},
     "output_type": "execute_result"
    }
   ],
   "source": [
    "geomagnetic_activity_dataset.shape"
   ]
  },
  {
   "cell_type": "code",
   "execution_count": 37,
   "id": "67fee946",
   "metadata": {},
   "outputs": [
    {
     "data": {
      "text/plain": [
       "0"
      ]
     },
     "execution_count": 37,
     "metadata": {},
     "output_type": "execute_result"
    }
   ],
   "source": [
    "np.sum(geomagnetic_activity_dataset.duplicated())"
   ]
  },
  {
   "cell_type": "code",
   "execution_count": 38,
   "id": "71b329d3",
   "metadata": {},
   "outputs": [
    {
     "data": {
      "text/plain": [
       "#YYY      0\n",
       "MM        0\n",
       "DD        0\n",
       "hh.h      0\n",
       "hh._m     0\n",
       "days      0\n",
       "days_m    0\n",
       "Kp        0\n",
       "ap        0\n",
       "D         0\n",
       "dtype: int64"
      ]
     },
     "execution_count": 38,
     "metadata": {},
     "output_type": "execute_result"
    }
   ],
   "source": [
    "np.sum(geomagnetic_activity_dataset.isna())"
   ]
  },
  {
   "cell_type": "code",
   "execution_count": 39,
   "id": "c2eff5a2",
   "metadata": {},
   "outputs": [
    {
     "data": {
      "text/plain": [
       "array([1, 2, 0], dtype=int64)"
      ]
     },
     "execution_count": 39,
     "metadata": {},
     "output_type": "execute_result"
    }
   ],
   "source": [
    "geomagnetic_activity_dataset['D'].unique()"
   ]
  },
  {
   "cell_type": "code",
   "execution_count": 40,
   "id": "3a7b39e9",
   "metadata": {},
   "outputs": [],
   "source": [
    "def get_feature_importnace():\n",
    "    for column in geomagnetic_activity_dataset.columns:\n",
    "        if column != 'ap':\n",
    "            correlation,pvalue = stats.pearsonr(geomagnetic_activity_dataset[column],geomagnetic_activity_dataset['Kp'])\n",
    "            print('Between {feature} and ap there is a correlation equal {corr} and p value equal {pval}'.format(feature=column, corr= correlation, pval=pvalue))"
   ]
  },
  {
   "cell_type": "code",
   "execution_count": 41,
   "id": "f3f48a95",
   "metadata": {},
   "outputs": [
    {
     "name": "stdout",
     "output_type": "stream",
     "text": [
      "Between #YYY and ap there is a correlation equal -0.1135228115716241 and p value equal 0.0\n",
      "Between MM and ap there is a correlation equal -0.029268150235159236 and p value equal 6.699153420388024e-52\n",
      "Between DD and ap there is a correlation equal 0.0020155363287888434 and p value equal 0.29665591989069284\n",
      "Between hh.h and ap there is a correlation equal -0.0025489983854783344 and p value equal 0.18688328692691314\n",
      "Between hh._m and ap there is a correlation equal -0.0025489983854783344 and p value equal 0.18688328692691314\n",
      "Between days and ap there is a correlation equal -0.11384080497169685 and p value equal 0.0\n",
      "Between days_m and ap there is a correlation equal -0.11384080497169685 and p value equal 0.0\n",
      "Between Kp and ap there is a correlation equal 1.0 and p value equal 0.0\n",
      "Between D and ap there is a correlation equal -0.0662752859535709 and p value equal 1.2004586585083433e-258\n"
     ]
    }
   ],
   "source": [
    "get_feature_importnace()"
   ]
  },
  {
   "cell_type": "code",
   "execution_count": 42,
   "id": "e845e343",
   "metadata": {},
   "outputs": [
    {
     "data": {
      "text/plain": [
       "9.0"
      ]
     },
     "execution_count": 42,
     "metadata": {},
     "output_type": "execute_result"
    }
   ],
   "source": [
    "geomagnetic_activity_dataset['Kp'].max()"
   ]
  },
  {
   "cell_type": "code",
   "execution_count": 43,
   "id": "8d701e4d",
   "metadata": {},
   "outputs": [
    {
     "data": {
      "text/plain": [
       "0.0"
      ]
     },
     "execution_count": 43,
     "metadata": {},
     "output_type": "execute_result"
    }
   ],
   "source": [
    "geomagnetic_activity_dataset['Kp'].min()"
   ]
  },
  {
   "cell_type": "code",
   "execution_count": 44,
   "id": "4f73a01f",
   "metadata": {},
   "outputs": [],
   "source": [
    "geomagnetic_activity_dataset.drop(columns=['ap'],axis=1,inplace=True)"
   ]
  },
  {
   "cell_type": "code",
   "execution_count": 45,
   "id": "d75201c8",
   "metadata": {},
   "outputs": [
    {
     "data": {
      "text/html": [
       "<div>\n",
       "<style scoped>\n",
       "    .dataframe tbody tr th:only-of-type {\n",
       "        vertical-align: middle;\n",
       "    }\n",
       "\n",
       "    .dataframe tbody tr th {\n",
       "        vertical-align: top;\n",
       "    }\n",
       "\n",
       "    .dataframe thead th {\n",
       "        text-align: right;\n",
       "    }\n",
       "</style>\n",
       "<table border=\"1\" class=\"dataframe\">\n",
       "  <thead>\n",
       "    <tr style=\"text-align: right;\">\n",
       "      <th></th>\n",
       "      <th>#YYY</th>\n",
       "      <th>MM</th>\n",
       "      <th>DD</th>\n",
       "      <th>hh.h</th>\n",
       "      <th>hh._m</th>\n",
       "      <th>days</th>\n",
       "      <th>days_m</th>\n",
       "      <th>Kp</th>\n",
       "      <th>D</th>\n",
       "    </tr>\n",
       "  </thead>\n",
       "  <tbody>\n",
       "    <tr>\n",
       "      <th>0</th>\n",
       "      <td>1932</td>\n",
       "      <td>1</td>\n",
       "      <td>1</td>\n",
       "      <td>0.00</td>\n",
       "      <td>1.50</td>\n",
       "      <td>0.00</td>\n",
       "      <td>0.06</td>\n",
       "      <td>3.33</td>\n",
       "      <td>1</td>\n",
       "    </tr>\n",
       "    <tr>\n",
       "      <th>1</th>\n",
       "      <td>1932</td>\n",
       "      <td>1</td>\n",
       "      <td>1</td>\n",
       "      <td>3.00</td>\n",
       "      <td>4.50</td>\n",
       "      <td>0.12</td>\n",
       "      <td>0.19</td>\n",
       "      <td>2.67</td>\n",
       "      <td>1</td>\n",
       "    </tr>\n",
       "    <tr>\n",
       "      <th>2</th>\n",
       "      <td>1932</td>\n",
       "      <td>1</td>\n",
       "      <td>1</td>\n",
       "      <td>6.00</td>\n",
       "      <td>7.50</td>\n",
       "      <td>0.25</td>\n",
       "      <td>0.31</td>\n",
       "      <td>2.33</td>\n",
       "      <td>1</td>\n",
       "    </tr>\n",
       "    <tr>\n",
       "      <th>3</th>\n",
       "      <td>1932</td>\n",
       "      <td>1</td>\n",
       "      <td>1</td>\n",
       "      <td>9.00</td>\n",
       "      <td>10.50</td>\n",
       "      <td>0.38</td>\n",
       "      <td>0.44</td>\n",
       "      <td>2.67</td>\n",
       "      <td>1</td>\n",
       "    </tr>\n",
       "    <tr>\n",
       "      <th>4</th>\n",
       "      <td>1932</td>\n",
       "      <td>1</td>\n",
       "      <td>1</td>\n",
       "      <td>12.00</td>\n",
       "      <td>13.50</td>\n",
       "      <td>0.50</td>\n",
       "      <td>0.56</td>\n",
       "      <td>3.33</td>\n",
       "      <td>1</td>\n",
       "    </tr>\n",
       "    <tr>\n",
       "      <th>5</th>\n",
       "      <td>1932</td>\n",
       "      <td>1</td>\n",
       "      <td>1</td>\n",
       "      <td>15.00</td>\n",
       "      <td>16.50</td>\n",
       "      <td>0.62</td>\n",
       "      <td>0.69</td>\n",
       "      <td>2.67</td>\n",
       "      <td>1</td>\n",
       "    </tr>\n",
       "    <tr>\n",
       "      <th>6</th>\n",
       "      <td>1932</td>\n",
       "      <td>1</td>\n",
       "      <td>1</td>\n",
       "      <td>18.00</td>\n",
       "      <td>19.50</td>\n",
       "      <td>0.75</td>\n",
       "      <td>0.81</td>\n",
       "      <td>3.33</td>\n",
       "      <td>1</td>\n",
       "    </tr>\n",
       "    <tr>\n",
       "      <th>7</th>\n",
       "      <td>1932</td>\n",
       "      <td>1</td>\n",
       "      <td>1</td>\n",
       "      <td>21.00</td>\n",
       "      <td>22.50</td>\n",
       "      <td>0.88</td>\n",
       "      <td>0.94</td>\n",
       "      <td>3.33</td>\n",
       "      <td>1</td>\n",
       "    </tr>\n",
       "    <tr>\n",
       "      <th>8</th>\n",
       "      <td>1932</td>\n",
       "      <td>1</td>\n",
       "      <td>2</td>\n",
       "      <td>0.00</td>\n",
       "      <td>1.50</td>\n",
       "      <td>1.00</td>\n",
       "      <td>1.06</td>\n",
       "      <td>3.67</td>\n",
       "      <td>1</td>\n",
       "    </tr>\n",
       "    <tr>\n",
       "      <th>9</th>\n",
       "      <td>1932</td>\n",
       "      <td>1</td>\n",
       "      <td>2</td>\n",
       "      <td>3.00</td>\n",
       "      <td>4.50</td>\n",
       "      <td>1.12</td>\n",
       "      <td>1.19</td>\n",
       "      <td>3.67</td>\n",
       "      <td>1</td>\n",
       "    </tr>\n",
       "  </tbody>\n",
       "</table>\n",
       "</div>"
      ],
      "text/plain": [
       "   #YYY  MM  DD  hh.h  hh._m  days  days_m   Kp  D\n",
       "0  1932   1   1  0.00   1.50  0.00    0.06 3.33  1\n",
       "1  1932   1   1  3.00   4.50  0.12    0.19 2.67  1\n",
       "2  1932   1   1  6.00   7.50  0.25    0.31 2.33  1\n",
       "3  1932   1   1  9.00  10.50  0.38    0.44 2.67  1\n",
       "4  1932   1   1 12.00  13.50  0.50    0.56 3.33  1\n",
       "5  1932   1   1 15.00  16.50  0.62    0.69 2.67  1\n",
       "6  1932   1   1 18.00  19.50  0.75    0.81 3.33  1\n",
       "7  1932   1   1 21.00  22.50  0.88    0.94 3.33  1\n",
       "8  1932   1   2  0.00   1.50  1.00    1.06 3.67  1\n",
       "9  1932   1   2  3.00   4.50  1.12    1.19 3.67  1"
      ]
     },
     "execution_count": 45,
     "metadata": {},
     "output_type": "execute_result"
    }
   ],
   "source": [
    "geomagnetic_activity_dataset.head(10)"
   ]
  },
  {
   "cell_type": "code",
   "execution_count": 46,
   "id": "ec60458d",
   "metadata": {},
   "outputs": [
    {
     "data": {
      "text/plain": [
       "214489.6"
      ]
     },
     "execution_count": 46,
     "metadata": {},
     "output_type": "execute_result"
    }
   ],
   "source": [
    "268112 * 0.8"
   ]
  },
  {
   "cell_type": "code",
   "execution_count": 47,
   "id": "60dfe1a5",
   "metadata": {},
   "outputs": [],
   "source": [
    "y_train = geomagnetic_activity_dataset['Kp'][:214489]\n",
    "y_test = geomagnetic_activity_dataset['Kp'][214489:]\n",
    "geomagnetic_activity_dataset.drop(columns= ['Kp'],axis=1,inplace = True)\n",
    "x_train = geomagnetic_activity_dataset[:214489]\n",
    "x_test = geomagnetic_activity_dataset[214489:]"
   ]
  },
  {
   "cell_type": "code",
   "execution_count": 48,
   "id": "79852120",
   "metadata": {},
   "outputs": [],
   "source": [
    "regressor = DecisionTreeRegressor()\n"
   ]
  },
  {
   "cell_type": "code",
   "execution_count": 49,
   "id": "69f76098",
   "metadata": {},
   "outputs": [
    {
     "name": "stdout",
     "output_type": "stream",
     "text": [
      "r2_score: -0.7943562139530529\n",
      "MSE: 2.7669766141767522\n",
      "RMSE: 1.663423161488607\n",
      "MAE: 1.2406632601682115\n"
     ]
    }
   ],
   "source": [
    "regressor.fit(x_train,y_train)\n",
    "predictions = regressor.predict(x_test)\n",
    "for i,p in enumerate(predictions):\n",
    "    if p < 0:\n",
    "        predictions[i] = 0\n",
    "    elif p > 9 :\n",
    "        predictions[i] = 9\n",
    "print(f'r2_score: {r2_score(y_test,predictions)}')\n",
    "print(f'MSE: {mean_squared_error(y_test, predictions)}')\n",
    "print(f'RMSE: {np.sqrt(mean_squared_error(y_test,predictions))}')\n",
    "print(f'MAE: {mean_absolute_error(y_test,predictions)}')"
   ]
  },
  {
   "cell_type": "code",
   "execution_count": 54,
   "id": "e8e7c6be",
   "metadata": {},
   "outputs": [
    {
     "data": {
      "text/plain": [
       "0.5857127538556216"
      ]
     },
     "execution_count": 54,
     "metadata": {},
     "output_type": "execute_result"
    }
   ],
   "source": [
    "predictions.mean()"
   ]
  },
  {
   "cell_type": "code",
   "execution_count": 55,
   "id": "883edeaa",
   "metadata": {},
   "outputs": [
    {
     "data": {
      "text/plain": [
       "214489   2.00\n",
       "214490   1.33\n",
       "214491   1.67\n",
       "214492   1.67\n",
       "214493   3.67\n",
       "         ... \n",
       "268107   1.00\n",
       "268108   2.00\n",
       "268109   2.00\n",
       "268110   2.00\n",
       "268111   2.00\n",
       "Name: Kp, Length: 53623, dtype: float64"
      ]
     },
     "execution_count": 55,
     "metadata": {},
     "output_type": "execute_result"
    }
   ],
   "source": [
    "y_test"
   ]
  },
  {
   "cell_type": "code",
   "execution_count": 56,
   "id": "db5ab866",
   "metadata": {},
   "outputs": [
    {
     "data": {
      "text/plain": [
       "8.667"
      ]
     },
     "execution_count": 56,
     "metadata": {},
     "output_type": "execute_result"
    }
   ],
   "source": [
    "y_test.max()"
   ]
  },
  {
   "cell_type": "code",
   "execution_count": 58,
   "id": "de65b495",
   "metadata": {},
   "outputs": [
    {
     "data": {
      "text/plain": [
       "<AxesSubplot:>"
      ]
     },
     "execution_count": 58,
     "metadata": {},
     "output_type": "execute_result"
    },
    {
     "data": {
      "image/png": "[encoded data removed]",
      "text/plain": [
       "<Figure size 1728x288 with 1 Axes>"
      ]
     },
     "metadata": {
      "needs_background": "light"
     },
     "output_type": "display_data"
    }
   ],
   "source": [
    "y_test.plot(figsize=(24,4))"
   ]
  },
  {
   "cell_type": "code",
   "execution_count": null,
   "id": "e650d64b",
   "metadata": {},
   "outputs": [],
   "source": [
    "from lazypredict.Supervised import LazyRegressor\n",
    "regressor = LazyRegressor(verbose = 1)\n",
    "models, predictions = regressor.fit(x_train,x_test,y_train,y_test)\n",
    "print(models)"
   ]
  }
 ],
 "metadata": {
  "kernelspec": {
   "display_name": "Python 3 (ipykernel)",
   "language": "python",
   "name": "python3"
  },
  "language_info": {
   "codemirror_mode": {
    "name": "ipython",
    "version": 3
   },
   "file_extension": ".py",
   "mimetype": "text/x-python",
   "name": "python",
   "nbconvert_exporter": "python",
   "pygments_lexer": "ipython3",
   "version": "3.9.7"
  }
 },
 "nbformat": 4,
 "nbformat_minor": 5
}
