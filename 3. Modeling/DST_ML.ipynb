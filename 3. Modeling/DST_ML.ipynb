{
 "cells": [
  {
   "cell_type": "code",
   "execution_count": 2,
   "id": "9772ce59",
   "metadata": {},
   "outputs": [],
   "source": [
    "import pandas as pd\n",
    "import numpy as np\n",
    "import sys\n",
    "import datetime\n",
    "import math\n",
    "from scipy.stats import pearsonr\n",
    "from lazypredict.Supervised import LazyRegressor"
   ]
  },
  {
   "cell_type": "code",
   "execution_count": 3,
   "id": "4718dbbe",
   "metadata": {},
   "outputs": [
    {
     "data": {
      "text/html": [
       "<div>\n",
       "<style scoped>\n",
       "    .dataframe tbody tr th:only-of-type {\n",
       "        vertical-align: middle;\n",
       "    }\n",
       "\n",
       "    .dataframe tbody tr th {\n",
       "        vertical-align: top;\n",
       "    }\n",
       "\n",
       "    .dataframe thead th {\n",
       "        text-align: right;\n",
       "    }\n",
       "</style>\n",
       "<table border=\"1\" class=\"dataframe\">\n",
       "  <thead>\n",
       "    <tr style=\"text-align: right;\">\n",
       "      <th></th>\n",
       "      <th>0</th>\n",
       "      <th>1</th>\n",
       "      <th>2</th>\n",
       "      <th>3</th>\n",
       "      <th>4</th>\n",
       "      <th>5</th>\n",
       "      <th>6</th>\n",
       "      <th>7</th>\n",
       "      <th>8</th>\n",
       "      <th>9</th>\n",
       "      <th>...</th>\n",
       "      <th>45</th>\n",
       "      <th>46</th>\n",
       "      <th>47</th>\n",
       "      <th>48</th>\n",
       "      <th>49</th>\n",
       "      <th>50</th>\n",
       "      <th>51</th>\n",
       "      <th>52</th>\n",
       "      <th>53</th>\n",
       "      <th>54</th>\n",
       "    </tr>\n",
       "  </thead>\n",
       "  <tbody>\n",
       "    <tr>\n",
       "      <th>0</th>\n",
       "      <td>1963</td>\n",
       "      <td>1.00</td>\n",
       "      <td>0</td>\n",
       "      <td>1771.00</td>\n",
       "      <td>NaN</td>\n",
       "      <td>NaN</td>\n",
       "      <td>NaN</td>\n",
       "      <td>NaN</td>\n",
       "      <td>NaN</td>\n",
       "      <td>NaN</td>\n",
       "      <td>...</td>\n",
       "      <td>99999.99</td>\n",
       "      <td>99999.99</td>\n",
       "      <td>99999.99</td>\n",
       "      <td>0</td>\n",
       "      <td>3.00</td>\n",
       "      <td>NaN</td>\n",
       "      <td>NaN</td>\n",
       "      <td>NaN</td>\n",
       "      <td>NaN</td>\n",
       "      <td>99.90</td>\n",
       "    </tr>\n",
       "    <tr>\n",
       "      <th>1</th>\n",
       "      <td>1963</td>\n",
       "      <td>1.00</td>\n",
       "      <td>1</td>\n",
       "      <td>1771.00</td>\n",
       "      <td>NaN</td>\n",
       "      <td>NaN</td>\n",
       "      <td>NaN</td>\n",
       "      <td>NaN</td>\n",
       "      <td>NaN</td>\n",
       "      <td>NaN</td>\n",
       "      <td>...</td>\n",
       "      <td>99999.99</td>\n",
       "      <td>99999.99</td>\n",
       "      <td>99999.99</td>\n",
       "      <td>0</td>\n",
       "      <td>3.00</td>\n",
       "      <td>NaN</td>\n",
       "      <td>NaN</td>\n",
       "      <td>NaN</td>\n",
       "      <td>NaN</td>\n",
       "      <td>99.90</td>\n",
       "    </tr>\n",
       "    <tr>\n",
       "      <th>2</th>\n",
       "      <td>1963</td>\n",
       "      <td>1.00</td>\n",
       "      <td>2</td>\n",
       "      <td>1771.00</td>\n",
       "      <td>NaN</td>\n",
       "      <td>NaN</td>\n",
       "      <td>NaN</td>\n",
       "      <td>NaN</td>\n",
       "      <td>NaN</td>\n",
       "      <td>NaN</td>\n",
       "      <td>...</td>\n",
       "      <td>99999.99</td>\n",
       "      <td>99999.99</td>\n",
       "      <td>99999.99</td>\n",
       "      <td>0</td>\n",
       "      <td>3.00</td>\n",
       "      <td>NaN</td>\n",
       "      <td>NaN</td>\n",
       "      <td>NaN</td>\n",
       "      <td>NaN</td>\n",
       "      <td>99.90</td>\n",
       "    </tr>\n",
       "    <tr>\n",
       "      <th>3</th>\n",
       "      <td>1963</td>\n",
       "      <td>1.00</td>\n",
       "      <td>3</td>\n",
       "      <td>1771.00</td>\n",
       "      <td>NaN</td>\n",
       "      <td>NaN</td>\n",
       "      <td>NaN</td>\n",
       "      <td>NaN</td>\n",
       "      <td>NaN</td>\n",
       "      <td>NaN</td>\n",
       "      <td>...</td>\n",
       "      <td>99999.99</td>\n",
       "      <td>99999.99</td>\n",
       "      <td>99999.99</td>\n",
       "      <td>0</td>\n",
       "      <td>7.00</td>\n",
       "      <td>NaN</td>\n",
       "      <td>NaN</td>\n",
       "      <td>NaN</td>\n",
       "      <td>NaN</td>\n",
       "      <td>99.90</td>\n",
       "    </tr>\n",
       "    <tr>\n",
       "      <th>4</th>\n",
       "      <td>1963</td>\n",
       "      <td>1.00</td>\n",
       "      <td>4</td>\n",
       "      <td>1771.00</td>\n",
       "      <td>NaN</td>\n",
       "      <td>NaN</td>\n",
       "      <td>NaN</td>\n",
       "      <td>NaN</td>\n",
       "      <td>NaN</td>\n",
       "      <td>NaN</td>\n",
       "      <td>...</td>\n",
       "      <td>99999.99</td>\n",
       "      <td>99999.99</td>\n",
       "      <td>99999.99</td>\n",
       "      <td>0</td>\n",
       "      <td>7.00</td>\n",
       "      <td>NaN</td>\n",
       "      <td>NaN</td>\n",
       "      <td>NaN</td>\n",
       "      <td>NaN</td>\n",
       "      <td>99.90</td>\n",
       "    </tr>\n",
       "    <tr>\n",
       "      <th>...</th>\n",
       "      <td>...</td>\n",
       "      <td>...</td>\n",
       "      <td>...</td>\n",
       "      <td>...</td>\n",
       "      <td>...</td>\n",
       "      <td>...</td>\n",
       "      <td>...</td>\n",
       "      <td>...</td>\n",
       "      <td>...</td>\n",
       "      <td>...</td>\n",
       "      <td>...</td>\n",
       "      <td>...</td>\n",
       "      <td>...</td>\n",
       "      <td>...</td>\n",
       "      <td>...</td>\n",
       "      <td>...</td>\n",
       "      <td>...</td>\n",
       "      <td>...</td>\n",
       "      <td>...</td>\n",
       "      <td>...</td>\n",
       "      <td>...</td>\n",
       "    </tr>\n",
       "    <tr>\n",
       "      <th>534715</th>\n",
       "      <td>2023</td>\n",
       "      <td>365.00</td>\n",
       "      <td>19</td>\n",
       "      <td>NaN</td>\n",
       "      <td>NaN</td>\n",
       "      <td>NaN</td>\n",
       "      <td>NaN</td>\n",
       "      <td>NaN</td>\n",
       "      <td>NaN</td>\n",
       "      <td>NaN</td>\n",
       "      <td>...</td>\n",
       "      <td>99999.99</td>\n",
       "      <td>99999.99</td>\n",
       "      <td>99999.99</td>\n",
       "      <td>0</td>\n",
       "      <td>NaN</td>\n",
       "      <td>NaN</td>\n",
       "      <td>NaN</td>\n",
       "      <td>NaN</td>\n",
       "      <td>NaN</td>\n",
       "      <td>99.90</td>\n",
       "    </tr>\n",
       "    <tr>\n",
       "      <th>534716</th>\n",
       "      <td>2023</td>\n",
       "      <td>365.00</td>\n",
       "      <td>20</td>\n",
       "      <td>NaN</td>\n",
       "      <td>NaN</td>\n",
       "      <td>NaN</td>\n",
       "      <td>NaN</td>\n",
       "      <td>NaN</td>\n",
       "      <td>NaN</td>\n",
       "      <td>NaN</td>\n",
       "      <td>...</td>\n",
       "      <td>99999.99</td>\n",
       "      <td>99999.99</td>\n",
       "      <td>99999.99</td>\n",
       "      <td>0</td>\n",
       "      <td>NaN</td>\n",
       "      <td>NaN</td>\n",
       "      <td>NaN</td>\n",
       "      <td>NaN</td>\n",
       "      <td>NaN</td>\n",
       "      <td>99.90</td>\n",
       "    </tr>\n",
       "    <tr>\n",
       "      <th>534717</th>\n",
       "      <td>2023</td>\n",
       "      <td>365.00</td>\n",
       "      <td>21</td>\n",
       "      <td>NaN</td>\n",
       "      <td>NaN</td>\n",
       "      <td>NaN</td>\n",
       "      <td>NaN</td>\n",
       "      <td>NaN</td>\n",
       "      <td>NaN</td>\n",
       "      <td>NaN</td>\n",
       "      <td>...</td>\n",
       "      <td>99999.99</td>\n",
       "      <td>99999.99</td>\n",
       "      <td>99999.99</td>\n",
       "      <td>0</td>\n",
       "      <td>NaN</td>\n",
       "      <td>NaN</td>\n",
       "      <td>NaN</td>\n",
       "      <td>NaN</td>\n",
       "      <td>NaN</td>\n",
       "      <td>99.90</td>\n",
       "    </tr>\n",
       "    <tr>\n",
       "      <th>534718</th>\n",
       "      <td>2023</td>\n",
       "      <td>365.00</td>\n",
       "      <td>22</td>\n",
       "      <td>NaN</td>\n",
       "      <td>NaN</td>\n",
       "      <td>NaN</td>\n",
       "      <td>NaN</td>\n",
       "      <td>NaN</td>\n",
       "      <td>NaN</td>\n",
       "      <td>NaN</td>\n",
       "      <td>...</td>\n",
       "      <td>99999.99</td>\n",
       "      <td>99999.99</td>\n",
       "      <td>99999.99</td>\n",
       "      <td>0</td>\n",
       "      <td>NaN</td>\n",
       "      <td>NaN</td>\n",
       "      <td>NaN</td>\n",
       "      <td>NaN</td>\n",
       "      <td>NaN</td>\n",
       "      <td>99.90</td>\n",
       "    </tr>\n",
       "    <tr>\n",
       "      <th>534719</th>\n",
       "      <td>2023</td>\n",
       "      <td>365.00</td>\n",
       "      <td>23</td>\n",
       "      <td>NaN</td>\n",
       "      <td>NaN</td>\n",
       "      <td>NaN</td>\n",
       "      <td>NaN</td>\n",
       "      <td>NaN</td>\n",
       "      <td>NaN</td>\n",
       "      <td>NaN</td>\n",
       "      <td>...</td>\n",
       "      <td>99999.99</td>\n",
       "      <td>99999.99</td>\n",
       "      <td>99999.99</td>\n",
       "      <td>0</td>\n",
       "      <td>NaN</td>\n",
       "      <td>NaN</td>\n",
       "      <td>NaN</td>\n",
       "      <td>NaN</td>\n",
       "      <td>NaN</td>\n",
       "      <td>99.90</td>\n",
       "    </tr>\n",
       "  </tbody>\n",
       "</table>\n",
       "<p>534720 rows × 55 columns</p>\n",
       "</div>"
      ],
      "text/plain": [
       "          0      1   2       3   4   5   6   7   8   9   ...       45  \\\n",
       "0       1963   1.00   0 1771.00 NaN NaN NaN NaN NaN NaN  ... 99999.99   \n",
       "1       1963   1.00   1 1771.00 NaN NaN NaN NaN NaN NaN  ... 99999.99   \n",
       "2       1963   1.00   2 1771.00 NaN NaN NaN NaN NaN NaN  ... 99999.99   \n",
       "3       1963   1.00   3 1771.00 NaN NaN NaN NaN NaN NaN  ... 99999.99   \n",
       "4       1963   1.00   4 1771.00 NaN NaN NaN NaN NaN NaN  ... 99999.99   \n",
       "...      ...    ...  ..     ...  ..  ..  ..  ..  ..  ..  ...      ...   \n",
       "534715  2023 365.00  19     NaN NaN NaN NaN NaN NaN NaN  ... 99999.99   \n",
       "534716  2023 365.00  20     NaN NaN NaN NaN NaN NaN NaN  ... 99999.99   \n",
       "534717  2023 365.00  21     NaN NaN NaN NaN NaN NaN NaN  ... 99999.99   \n",
       "534718  2023 365.00  22     NaN NaN NaN NaN NaN NaN NaN  ... 99999.99   \n",
       "534719  2023 365.00  23     NaN NaN NaN NaN NaN NaN NaN  ... 99999.99   \n",
       "\n",
       "             46       47  48   49  50  51  52  53    54  \n",
       "0      99999.99 99999.99   0 3.00 NaN NaN NaN NaN 99.90  \n",
       "1      99999.99 99999.99   0 3.00 NaN NaN NaN NaN 99.90  \n",
       "2      99999.99 99999.99   0 3.00 NaN NaN NaN NaN 99.90  \n",
       "3      99999.99 99999.99   0 7.00 NaN NaN NaN NaN 99.90  \n",
       "4      99999.99 99999.99   0 7.00 NaN NaN NaN NaN 99.90  \n",
       "...         ...      ...  ..  ...  ..  ..  ..  ..   ...  \n",
       "534715 99999.99 99999.99   0  NaN NaN NaN NaN NaN 99.90  \n",
       "534716 99999.99 99999.99   0  NaN NaN NaN NaN NaN 99.90  \n",
       "534717 99999.99 99999.99   0  NaN NaN NaN NaN NaN 99.90  \n",
       "534718 99999.99 99999.99   0  NaN NaN NaN NaN NaN 99.90  \n",
       "534719 99999.99 99999.99   0  NaN NaN NaN NaN NaN 99.90  \n",
       "\n",
       "[534720 rows x 55 columns]"
      ]
     },
     "execution_count": 3,
     "metadata": {},
     "output_type": "execute_result"
    }
   ],
   "source": [
    "df = pd.read_csv('omni2_all_years.dat', header = None, delim_whitespace=True, na_values = [999.9, 9999999, 999.9, 9999, 99.99, 99, 99999])\n",
    "df"
   ]
  },
  {
   "cell_type": "code",
   "execution_count": 4,
   "id": "9e39fac7",
   "metadata": {},
   "outputs": [
    {
     "data": {
      "text/html": [
       "<div>\n",
       "<style scoped>\n",
       "    .dataframe tbody tr th:only-of-type {\n",
       "        vertical-align: middle;\n",
       "    }\n",
       "\n",
       "    .dataframe tbody tr th {\n",
       "        vertical-align: top;\n",
       "    }\n",
       "\n",
       "    .dataframe thead th {\n",
       "        text-align: right;\n",
       "    }\n",
       "</style>\n",
       "<table border=\"1\" class=\"dataframe\">\n",
       "  <thead>\n",
       "    <tr style=\"text-align: right;\">\n",
       "      <th></th>\n",
       "      <th>Year</th>\n",
       "      <th>DDay</th>\n",
       "      <th>Hour</th>\n",
       "      <th>Bx</th>\n",
       "      <th>By</th>\n",
       "      <th>Bz</th>\n",
       "      <th>T</th>\n",
       "      <th>D</th>\n",
       "      <th>V</th>\n",
       "      <th>P</th>\n",
       "      <th>Kp</th>\n",
       "      <th>Dst</th>\n",
       "    </tr>\n",
       "  </thead>\n",
       "  <tbody>\n",
       "    <tr>\n",
       "      <th>0</th>\n",
       "      <td>1963</td>\n",
       "      <td>1.00</td>\n",
       "      <td>0</td>\n",
       "      <td>NaN</td>\n",
       "      <td>NaN</td>\n",
       "      <td>NaN</td>\n",
       "      <td>NaN</td>\n",
       "      <td>NaN</td>\n",
       "      <td>NaN</td>\n",
       "      <td>NaN</td>\n",
       "      <td>7.00</td>\n",
       "      <td>-6.00</td>\n",
       "    </tr>\n",
       "    <tr>\n",
       "      <th>1</th>\n",
       "      <td>1963</td>\n",
       "      <td>1.00</td>\n",
       "      <td>1</td>\n",
       "      <td>NaN</td>\n",
       "      <td>NaN</td>\n",
       "      <td>NaN</td>\n",
       "      <td>NaN</td>\n",
       "      <td>NaN</td>\n",
       "      <td>NaN</td>\n",
       "      <td>NaN</td>\n",
       "      <td>7.00</td>\n",
       "      <td>-5.00</td>\n",
       "    </tr>\n",
       "    <tr>\n",
       "      <th>2</th>\n",
       "      <td>1963</td>\n",
       "      <td>1.00</td>\n",
       "      <td>2</td>\n",
       "      <td>NaN</td>\n",
       "      <td>NaN</td>\n",
       "      <td>NaN</td>\n",
       "      <td>NaN</td>\n",
       "      <td>NaN</td>\n",
       "      <td>NaN</td>\n",
       "      <td>NaN</td>\n",
       "      <td>7.00</td>\n",
       "      <td>-5.00</td>\n",
       "    </tr>\n",
       "    <tr>\n",
       "      <th>3</th>\n",
       "      <td>1963</td>\n",
       "      <td>1.00</td>\n",
       "      <td>3</td>\n",
       "      <td>NaN</td>\n",
       "      <td>NaN</td>\n",
       "      <td>NaN</td>\n",
       "      <td>NaN</td>\n",
       "      <td>NaN</td>\n",
       "      <td>NaN</td>\n",
       "      <td>NaN</td>\n",
       "      <td>20.00</td>\n",
       "      <td>-3.00</td>\n",
       "    </tr>\n",
       "    <tr>\n",
       "      <th>4</th>\n",
       "      <td>1963</td>\n",
       "      <td>1.00</td>\n",
       "      <td>4</td>\n",
       "      <td>NaN</td>\n",
       "      <td>NaN</td>\n",
       "      <td>NaN</td>\n",
       "      <td>NaN</td>\n",
       "      <td>NaN</td>\n",
       "      <td>NaN</td>\n",
       "      <td>NaN</td>\n",
       "      <td>20.00</td>\n",
       "      <td>-3.00</td>\n",
       "    </tr>\n",
       "    <tr>\n",
       "      <th>...</th>\n",
       "      <td>...</td>\n",
       "      <td>...</td>\n",
       "      <td>...</td>\n",
       "      <td>...</td>\n",
       "      <td>...</td>\n",
       "      <td>...</td>\n",
       "      <td>...</td>\n",
       "      <td>...</td>\n",
       "      <td>...</td>\n",
       "      <td>...</td>\n",
       "      <td>...</td>\n",
       "      <td>...</td>\n",
       "    </tr>\n",
       "    <tr>\n",
       "      <th>534715</th>\n",
       "      <td>2023</td>\n",
       "      <td>365.00</td>\n",
       "      <td>19</td>\n",
       "      <td>NaN</td>\n",
       "      <td>NaN</td>\n",
       "      <td>NaN</td>\n",
       "      <td>NaN</td>\n",
       "      <td>NaN</td>\n",
       "      <td>NaN</td>\n",
       "      <td>NaN</td>\n",
       "      <td>NaN</td>\n",
       "      <td>NaN</td>\n",
       "    </tr>\n",
       "    <tr>\n",
       "      <th>534716</th>\n",
       "      <td>2023</td>\n",
       "      <td>365.00</td>\n",
       "      <td>20</td>\n",
       "      <td>NaN</td>\n",
       "      <td>NaN</td>\n",
       "      <td>NaN</td>\n",
       "      <td>NaN</td>\n",
       "      <td>NaN</td>\n",
       "      <td>NaN</td>\n",
       "      <td>NaN</td>\n",
       "      <td>NaN</td>\n",
       "      <td>NaN</td>\n",
       "    </tr>\n",
       "    <tr>\n",
       "      <th>534717</th>\n",
       "      <td>2023</td>\n",
       "      <td>365.00</td>\n",
       "      <td>21</td>\n",
       "      <td>NaN</td>\n",
       "      <td>NaN</td>\n",
       "      <td>NaN</td>\n",
       "      <td>NaN</td>\n",
       "      <td>NaN</td>\n",
       "      <td>NaN</td>\n",
       "      <td>NaN</td>\n",
       "      <td>NaN</td>\n",
       "      <td>NaN</td>\n",
       "    </tr>\n",
       "    <tr>\n",
       "      <th>534718</th>\n",
       "      <td>2023</td>\n",
       "      <td>365.00</td>\n",
       "      <td>22</td>\n",
       "      <td>NaN</td>\n",
       "      <td>NaN</td>\n",
       "      <td>NaN</td>\n",
       "      <td>NaN</td>\n",
       "      <td>NaN</td>\n",
       "      <td>NaN</td>\n",
       "      <td>NaN</td>\n",
       "      <td>NaN</td>\n",
       "      <td>NaN</td>\n",
       "    </tr>\n",
       "    <tr>\n",
       "      <th>534719</th>\n",
       "      <td>2023</td>\n",
       "      <td>365.00</td>\n",
       "      <td>23</td>\n",
       "      <td>NaN</td>\n",
       "      <td>NaN</td>\n",
       "      <td>NaN</td>\n",
       "      <td>NaN</td>\n",
       "      <td>NaN</td>\n",
       "      <td>NaN</td>\n",
       "      <td>NaN</td>\n",
       "      <td>NaN</td>\n",
       "      <td>NaN</td>\n",
       "    </tr>\n",
       "  </tbody>\n",
       "</table>\n",
       "<p>534720 rows × 12 columns</p>\n",
       "</div>"
      ],
      "text/plain": [
       "        Year   DDay  Hour  Bx  By  Bz   T   D   V   P    Kp   Dst\n",
       "0       1963   1.00     0 NaN NaN NaN NaN NaN NaN NaN  7.00 -6.00\n",
       "1       1963   1.00     1 NaN NaN NaN NaN NaN NaN NaN  7.00 -5.00\n",
       "2       1963   1.00     2 NaN NaN NaN NaN NaN NaN NaN  7.00 -5.00\n",
       "3       1963   1.00     3 NaN NaN NaN NaN NaN NaN NaN 20.00 -3.00\n",
       "4       1963   1.00     4 NaN NaN NaN NaN NaN NaN NaN 20.00 -3.00\n",
       "...      ...    ...   ...  ..  ..  ..  ..  ..  ..  ..   ...   ...\n",
       "534715  2023 365.00    19 NaN NaN NaN NaN NaN NaN NaN   NaN   NaN\n",
       "534716  2023 365.00    20 NaN NaN NaN NaN NaN NaN NaN   NaN   NaN\n",
       "534717  2023 365.00    21 NaN NaN NaN NaN NaN NaN NaN   NaN   NaN\n",
       "534718  2023 365.00    22 NaN NaN NaN NaN NaN NaN NaN   NaN   NaN\n",
       "534719  2023 365.00    23 NaN NaN NaN NaN NaN NaN NaN   NaN   NaN\n",
       "\n",
       "[534720 rows x 12 columns]"
      ]
     },
     "execution_count": 4,
     "metadata": {},
     "output_type": "execute_result"
    }
   ],
   "source": [
    "df = df[[0, 1, 2, 12, 15, 16, 22, 23, 24, 28, 38, 40]]\n",
    "df.columns = ['Year', 'DDay', 'Hour', 'Bx', 'By', 'Bz', 'T', 'D', 'V', 'P', 'Kp', 'Dst']\n",
    "df"
   ]
  },
  {
   "cell_type": "code",
   "execution_count": 5,
   "id": "574226c1",
   "metadata": {},
   "outputs": [
    {
     "data": {
      "text/plain": [
       "Year   0.00\n",
       "DDay   0.00\n",
       "Hour   0.00\n",
       "Bx     0.24\n",
       "By     0.24\n",
       "Bz     0.24\n",
       "T      0.31\n",
       "D      0.27\n",
       "V      0.24\n",
       "P      0.28\n",
       "Kp     0.00\n",
       "Dst    0.00\n",
       "dtype: float64"
      ]
     },
     "execution_count": 5,
     "metadata": {},
     "output_type": "execute_result"
    }
   ],
   "source": [
    "df.isnull().sum()/534720"
   ]
  },
  {
   "cell_type": "code",
   "execution_count": 6,
   "id": "c0444083",
   "metadata": {},
   "outputs": [],
   "source": [
    "for column in df.columns:\n",
    "    if df[column].isnull().sum() > 0:\n",
    "        df[column].fillna(value=df[column].mean(), inplace=True)"
   ]
  },
  {
   "cell_type": "code",
   "execution_count": 7,
   "id": "92905ae7",
   "metadata": {},
   "outputs": [],
   "source": [
    "def get_feature_importnace(label):\n",
    "    for column in df.columns:\n",
    "        if column != label:\n",
    "            correlation,pvalue = pearsonr(df[column],df[label])\n",
    "            print('Between {feature} and {label} there is a correlation equal {corr} and p value equal {pval}'.format(feature=column, label=label, corr=correlation, pval=pvalue))\n",
    "    print(\"end\")"
   ]
  },
  {
   "cell_type": "code",
   "execution_count": 8,
   "id": "e3e32eef",
   "metadata": {},
   "outputs": [
    {
     "name": "stdout",
     "output_type": "stream",
     "text": [
      "Between Year and Dst there is a correlation equal 0.04732926486761045 and p value equal 9.368269646618502e-263\n",
      "Between DDay and Dst there is a correlation equal -0.0018257951567504788 and p value equal 0.1818427990907839\n",
      "Between Hour and Dst there is a correlation equal -0.0009413565331953236 and p value equal 0.4912252982982527\n",
      "Between Bx and Dst there is a correlation equal -0.002092562156120092 and p value equal 0.12597347104366002\n",
      "Between By and Dst there is a correlation equal -0.006632689657936544 and p value equal 1.233578462228778e-06\n",
      "Between Bz and Dst there is a correlation equal 0.24516097259831984 and p value equal 0.0\n",
      "Between T and Dst there is a correlation equal -0.2322982722336879 and p value equal 0.0\n",
      "Between D and Dst there is a correlation equal 0.1729314144890219 and p value equal 0.0\n",
      "Between V and Dst there is a correlation equal -0.3660583411669608 and p value equal 0.0\n",
      "Between P and Dst there is a correlation equal -0.08324468414885819 and p value equal 0.0\n",
      "Between Kp and Dst there is a correlation equal -0.5873787799414667 and p value equal 0.0\n",
      "end\n",
      "Between Year and Kp there is a correlation equal -0.15256185576743242 and p value equal 0.0\n",
      "Between DDay and Kp there is a correlation equal -0.028855449833049007 and p value equal 7.191419688099165e-99\n",
      "Between Hour and Kp there is a correlation equal 0.0022724978087656613 and p value equal 0.09656249285983218\n",
      "Between Bx and Kp there is a correlation equal -0.007452581624661853 and p value equal 5.044640135745915e-08\n",
      "Between By and Kp there is a correlation equal 0.017913686501237123 and p value equal 3.278580146093338e-39\n",
      "Between Bz and Kp there is a correlation equal -0.2876186130380154 and p value equal 0.0\n",
      "Between T and Kp there is a correlation equal 0.4175216684388049 and p value equal 0.0\n",
      "Between D and Kp there is a correlation equal 0.09932950789971037 and p value equal 0.0\n",
      "Between V and Kp there is a correlation equal 0.4906008264493559 and p value equal 0.0\n",
      "Between P and Kp there is a correlation equal 0.4114008786794513 and p value equal 0.0\n",
      "Between Dst and Kp there is a correlation equal -0.5873787799414667 and p value equal 0.0\n",
      "end\n"
     ]
    }
   ],
   "source": [
    "get_feature_importnace('Dst')\n",
    "get_feature_importnace('Kp')"
   ]
  },
  {
   "cell_type": "code",
   "execution_count": 9,
   "id": "41e1db89",
   "metadata": {},
   "outputs": [
    {
     "data": {
      "text/plain": [
       "427776.0"
      ]
     },
     "execution_count": 9,
     "metadata": {},
     "output_type": "execute_result"
    }
   ],
   "source": [
    "df.shape[0] * 0.8"
   ]
  },
  {
   "cell_type": "code",
   "execution_count": 10,
   "id": "10bccf7f",
   "metadata": {},
   "outputs": [],
   "source": [
    "y_train = df['Dst'][:427776]\n",
    "y_test = df['Dst'][427776:]\n",
    "df.drop(columns= ['Dst', 'Kp', 'DDay', 'Hour'],axis=1,inplace = True)\n",
    "x_train = df[:427776]\n",
    "x_test = df[427776:]"
   ]
  },
  {
   "cell_type": "code",
   "execution_count": 38,
   "id": "c6bb318c",
   "metadata": {},
   "outputs": [
    {
     "data": {
      "text/html": [
       "<div>\n",
       "<style scoped>\n",
       "    .dataframe tbody tr th:only-of-type {\n",
       "        vertical-align: middle;\n",
       "    }\n",
       "\n",
       "    .dataframe tbody tr th {\n",
       "        vertical-align: top;\n",
       "    }\n",
       "\n",
       "    .dataframe thead th {\n",
       "        text-align: right;\n",
       "    }\n",
       "</style>\n",
       "<table border=\"1\" class=\"dataframe\">\n",
       "  <thead>\n",
       "    <tr style=\"text-align: right;\">\n",
       "      <th></th>\n",
       "      <th>Year</th>\n",
       "      <th>Bx</th>\n",
       "      <th>By</th>\n",
       "      <th>Bz</th>\n",
       "      <th>T</th>\n",
       "      <th>D</th>\n",
       "      <th>V</th>\n",
       "      <th>P</th>\n",
       "    </tr>\n",
       "  </thead>\n",
       "  <tbody>\n",
       "    <tr>\n",
       "      <th>427776</th>\n",
       "      <td>2011</td>\n",
       "      <td>3.200000</td>\n",
       "      <td>-1.700000</td>\n",
       "      <td>-1.800000</td>\n",
       "      <td>131819.000000</td>\n",
       "      <td>2.600000</td>\n",
       "      <td>407.000000</td>\n",
       "      <td>0.83000</td>\n",
       "    </tr>\n",
       "    <tr>\n",
       "      <th>427777</th>\n",
       "      <td>2011</td>\n",
       "      <td>1.700000</td>\n",
       "      <td>-4.000000</td>\n",
       "      <td>1.000000</td>\n",
       "      <td>112093.000000</td>\n",
       "      <td>2.400000</td>\n",
       "      <td>426.000000</td>\n",
       "      <td>0.83000</td>\n",
       "    </tr>\n",
       "    <tr>\n",
       "      <th>427778</th>\n",
       "      <td>2011</td>\n",
       "      <td>2.400000</td>\n",
       "      <td>-2.900000</td>\n",
       "      <td>-1.000000</td>\n",
       "      <td>106310.000000</td>\n",
       "      <td>2.400000</td>\n",
       "      <td>418.000000</td>\n",
       "      <td>0.78000</td>\n",
       "    </tr>\n",
       "    <tr>\n",
       "      <th>427779</th>\n",
       "      <td>2011</td>\n",
       "      <td>2.400000</td>\n",
       "      <td>-1.600000</td>\n",
       "      <td>3.000000</td>\n",
       "      <td>96042.000000</td>\n",
       "      <td>2.300000</td>\n",
       "      <td>415.000000</td>\n",
       "      <td>0.74000</td>\n",
       "    </tr>\n",
       "    <tr>\n",
       "      <th>427780</th>\n",
       "      <td>2011</td>\n",
       "      <td>1.900000</td>\n",
       "      <td>-3.200000</td>\n",
       "      <td>-0.400000</td>\n",
       "      <td>98800.000000</td>\n",
       "      <td>2.500000</td>\n",
       "      <td>419.000000</td>\n",
       "      <td>0.82000</td>\n",
       "    </tr>\n",
       "    <tr>\n",
       "      <th>...</th>\n",
       "      <td>...</td>\n",
       "      <td>...</td>\n",
       "      <td>...</td>\n",
       "      <td>...</td>\n",
       "      <td>...</td>\n",
       "      <td>...</td>\n",
       "      <td>...</td>\n",
       "      <td>...</td>\n",
       "    </tr>\n",
       "    <tr>\n",
       "      <th>534715</th>\n",
       "      <td>2023</td>\n",
       "      <td>0.037893</td>\n",
       "      <td>-0.039196</td>\n",
       "      <td>-0.014501</td>\n",
       "      <td>102227.931273</td>\n",
       "      <td>6.656975</td>\n",
       "      <td>433.474604</td>\n",
       "      <td>2.23053</td>\n",
       "    </tr>\n",
       "    <tr>\n",
       "      <th>534716</th>\n",
       "      <td>2023</td>\n",
       "      <td>0.037893</td>\n",
       "      <td>-0.039196</td>\n",
       "      <td>-0.014501</td>\n",
       "      <td>102227.931273</td>\n",
       "      <td>6.656975</td>\n",
       "      <td>433.474604</td>\n",
       "      <td>2.23053</td>\n",
       "    </tr>\n",
       "    <tr>\n",
       "      <th>534717</th>\n",
       "      <td>2023</td>\n",
       "      <td>0.037893</td>\n",
       "      <td>-0.039196</td>\n",
       "      <td>-0.014501</td>\n",
       "      <td>102227.931273</td>\n",
       "      <td>6.656975</td>\n",
       "      <td>433.474604</td>\n",
       "      <td>2.23053</td>\n",
       "    </tr>\n",
       "    <tr>\n",
       "      <th>534718</th>\n",
       "      <td>2023</td>\n",
       "      <td>0.037893</td>\n",
       "      <td>-0.039196</td>\n",
       "      <td>-0.014501</td>\n",
       "      <td>102227.931273</td>\n",
       "      <td>6.656975</td>\n",
       "      <td>433.474604</td>\n",
       "      <td>2.23053</td>\n",
       "    </tr>\n",
       "    <tr>\n",
       "      <th>534719</th>\n",
       "      <td>2023</td>\n",
       "      <td>0.037893</td>\n",
       "      <td>-0.039196</td>\n",
       "      <td>-0.014501</td>\n",
       "      <td>102227.931273</td>\n",
       "      <td>6.656975</td>\n",
       "      <td>433.474604</td>\n",
       "      <td>2.23053</td>\n",
       "    </tr>\n",
       "  </tbody>\n",
       "</table>\n",
       "<p>106944 rows × 8 columns</p>\n",
       "</div>"
      ],
      "text/plain": [
       "        Year        Bx        By        Bz              T         D  \\\n",
       "427776  2011  3.200000 -1.700000 -1.800000  131819.000000  2.600000   \n",
       "427777  2011  1.700000 -4.000000  1.000000  112093.000000  2.400000   \n",
       "427778  2011  2.400000 -2.900000 -1.000000  106310.000000  2.400000   \n",
       "427779  2011  2.400000 -1.600000  3.000000   96042.000000  2.300000   \n",
       "427780  2011  1.900000 -3.200000 -0.400000   98800.000000  2.500000   \n",
       "...      ...       ...       ...       ...            ...       ...   \n",
       "534715  2023  0.037893 -0.039196 -0.014501  102227.931273  6.656975   \n",
       "534716  2023  0.037893 -0.039196 -0.014501  102227.931273  6.656975   \n",
       "534717  2023  0.037893 -0.039196 -0.014501  102227.931273  6.656975   \n",
       "534718  2023  0.037893 -0.039196 -0.014501  102227.931273  6.656975   \n",
       "534719  2023  0.037893 -0.039196 -0.014501  102227.931273  6.656975   \n",
       "\n",
       "                 V        P  \n",
       "427776  407.000000  0.83000  \n",
       "427777  426.000000  0.83000  \n",
       "427778  418.000000  0.78000  \n",
       "427779  415.000000  0.74000  \n",
       "427780  419.000000  0.82000  \n",
       "...            ...      ...  \n",
       "534715  433.474604  2.23053  \n",
       "534716  433.474604  2.23053  \n",
       "534717  433.474604  2.23053  \n",
       "534718  433.474604  2.23053  \n",
       "534719  433.474604  2.23053  \n",
       "\n",
       "[106944 rows x 8 columns]"
      ]
     },
     "execution_count": 38,
     "metadata": {},
     "output_type": "execute_result"
    }
   ],
   "source": [
    "x_test"
   ]
  },
  {
   "cell_type": "code",
   "execution_count": null,
   "id": "ca4756bf",
   "metadata": {},
   "outputs": [
    {
     "name": "stderr",
     "output_type": "stream",
     "text": [
      "  2%|█▉                                                                                 | 1/42 [00:05<03:41,  5.41s/it]"
     ]
    },
    {
     "name": "stdout",
     "output_type": "stream",
     "text": [
      "{'Model': 'AdaBoostRegressor', 'R-Squared': -0.19565956489862657, 'Adjusted R-Squared': -0.19574901434473113, 'RMSE': 17.85338318622614, 'Time taken': 5.405263423919678}\n"
     ]
    },
    {
     "name": "stderr",
     "output_type": "stream",
     "text": [
      "\r",
      "  5%|███▉                                                                               | 2/42 [00:21<07:51, 11.79s/it]"
     ]
    },
    {
     "name": "stdout",
     "output_type": "stream",
     "text": [
      "{'Model': 'BaggingRegressor', 'R-Squared': 0.32004571505667745, 'Adjusted R-Squared': 0.3199948464516412, 'RMSE': 13.463457774358352, 'Time taken': 16.266635417938232}\n"
     ]
    },
    {
     "name": "stderr",
     "output_type": "stream",
     "text": [
      "\r",
      "  7%|█████▉                                                                             | 3/42 [00:21<04:14,  6.51s/it]"
     ]
    },
    {
     "name": "stdout",
     "output_type": "stream",
     "text": [
      "{'Model': 'BayesianRidge', 'R-Squared': 0.20066175406146503, 'Adjusted R-Squared': 0.20060195412722925, 'RMSE': 14.5976199203182, 'Time taken': 0.23018932342529297}\n"
     ]
    },
    {
     "name": "stderr",
     "output_type": "stream",
     "text": [
      " 12%|█████████▉                                                                         | 5/42 [00:24<01:58,  3.21s/it]"
     ]
    },
    {
     "name": "stdout",
     "output_type": "stream",
     "text": [
      "{'Model': 'DecisionTreeRegressor', 'R-Squared': -0.18344859038008998, 'Adjusted R-Squared': -0.183537126301192, 'RMSE': 17.76198313912904, 'Time taken': 2.589942216873169}\n",
      "{'Model': 'DummyRegressor', 'R-Squared': -0.10978188719008819, 'Adjusted R-Squared': -0.10986491197240933, 'RMSE': 17.2002821605029, 'Time taken': 0.10981512069702148}\n"
     ]
    },
    {
     "name": "stderr",
     "output_type": "stream",
     "text": [
      "\r",
      " 14%|███████████▊                                                                       | 6/42 [00:24<01:18,  2.18s/it]"
     ]
    },
    {
     "name": "stdout",
     "output_type": "stream",
     "text": [
      "{'Model': 'ElasticNet', 'R-Squared': 0.21016622605436241, 'Adjusted R-Squared': 0.2101071371667993, 'RMSE': 14.510574437322727, 'Time taken': 0.17834067344665527}\n"
     ]
    },
    {
     "name": "stderr",
     "output_type": "stream",
     "text": [
      "\r",
      " 17%|█████████████▊                                                                     | 7/42 [00:26<01:06,  1.90s/it]"
     ]
    },
    {
     "name": "stdout",
     "output_type": "stream",
     "text": [
      "{'Model': 'ElasticNetCV', 'R-Squared': 0.2191967152946791, 'Adjusted R-Squared': 0.21913830199428508, 'RMSE': 14.42738332880937, 'Time taken': 1.3025250434875488}\n"
     ]
    },
    {
     "name": "stderr",
     "output_type": "stream",
     "text": [
      "\r",
      " 19%|███████████████▊                                                                   | 8/42 [00:26<00:52,  1.55s/it]"
     ]
    },
    {
     "name": "stdout",
     "output_type": "stream",
     "text": [
      "{'Model': 'ExtraTreeRegressor', 'R-Squared': -0.19516002340167837, 'Adjusted R-Squared': -0.19524943547618356, 'RMSE': 17.849653262697984, 'Time taken': 0.792790412902832}\n"
     ]
    },
    {
     "name": "stderr",
     "output_type": "stream",
     "text": [
      " 24%|███████████████████▌                                                              | 10/42 [01:37<08:35, 16.11s/it]"
     ]
    },
    {
     "name": "stdout",
     "output_type": "stream",
     "text": [
      "{'Model': 'ExtraTreesRegressor', 'R-Squared': 0.3798389818595903, 'Adjusted R-Squared': 0.3797925864965649, 'RMSE': 12.85786871611611, 'Time taken': 70.9648654460907}\n",
      "GammaRegressor model failed to execute\n",
      "Some value(s) of y are out of the valid range of the loss 'HalfGammaLoss'.\n"
     ]
    },
    {
     "name": "stderr",
     "output_type": "stream",
     "text": [
      "\r",
      " 26%|█████████████████████▍                                                            | 11/42 [01:38<05:48, 11.23s/it]"
     ]
    },
    {
     "name": "stdout",
     "output_type": "stream",
     "text": [
      "GaussianProcessRegressor model failed to execute\n",
      "Unable to allocate 1.33 TiB for an array with shape (427776, 427776) and data type float64\n"
     ]
    },
    {
     "name": "stderr",
     "output_type": "stream",
     "text": [
      "\r",
      " 29%|███████████████████████▍                                                          | 12/42 [02:13<09:17, 18.57s/it]"
     ]
    },
    {
     "name": "stdout",
     "output_type": "stream",
     "text": [
      "{'Model': 'GradientBoostingRegressor', 'R-Squared': 0.41828866100197815, 'Adjusted R-Squared': 0.4182451421287189, 'RMSE': 12.452900549932084, 'Time taken': 35.37075591087341}\n"
     ]
    },
    {
     "name": "stderr",
     "output_type": "stream",
     "text": [
      "\r",
      " 31%|█████████████████████████▍                                                        | 13/42 [02:15<06:30, 13.47s/it]"
     ]
    },
    {
     "name": "stdout",
     "output_type": "stream",
     "text": [
      "{'Model': 'HistGradientBoostingRegressor', 'R-Squared': 0.4187603090961677, 'Adjusted R-Squared': 0.418716825507752, 'RMSE': 12.447851157366276, 'Time taken': 1.719515085220337}\n"
     ]
    },
    {
     "name": "stderr",
     "output_type": "stream",
     "text": [
      "\r",
      " 33%|███████████████████████████▎                                                      | 14/42 [02:15<04:28,  9.60s/it]"
     ]
    },
    {
     "name": "stdout",
     "output_type": "stream",
     "text": [
      "{'Model': 'HuberRegressor', 'R-Squared': 0.2986819263739737, 'Adjusted R-Squared': 0.29862945950541797, 'RMSE': 13.673329221913539, 'Time taken': 0.6634917259216309}\n"
     ]
    },
    {
     "name": "stderr",
     "output_type": "stream",
     "text": [
      " 38%|███████████████████████████████▏                                                  | 16/42 [02:28<03:09,  7.30s/it]"
     ]
    },
    {
     "name": "stdout",
     "output_type": "stream",
     "text": [
      "{'Model': 'KNeighborsRegressor', 'R-Squared': 0.286050673266401, 'Adjusted R-Squared': 0.2859972614310443, 'RMSE': 13.795913074918754, 'Time taken': 12.21650242805481}\n",
      "KernelRidge model failed to execute\n",
      "Unable to allocate 1.33 TiB for an array with shape (427776, 427776) and data type float64\n"
     ]
    },
    {
     "name": "stderr",
     "output_type": "stream",
     "text": [
      "\r",
      " 40%|█████████████████████████████████▏                                                | 17/42 [02:28<02:08,  5.15s/it]"
     ]
    },
    {
     "name": "stdout",
     "output_type": "stream",
     "text": [
      "{'Model': 'Lars', 'R-Squared': 0.20065182203914278, 'Adjusted R-Squared': 0.20059202136187448, 'RMSE': 14.597710609983853, 'Time taken': 0.15754365921020508}\n"
     ]
    },
    {
     "name": "stderr",
     "output_type": "stream",
     "text": [
      " 45%|█████████████████████████████████████                                             | 19/42 [02:29<01:03,  2.74s/it]"
     ]
    },
    {
     "name": "stdout",
     "output_type": "stream",
     "text": [
      "{'Model': 'LarsCV', 'R-Squared': 0.23493276952925213, 'Adjusted R-Squared': 0.23487553347142487, 'RMSE': 14.28126097160121, 'Time taken': 0.8218436241149902}\n",
      "{'Model': 'Lasso', 'R-Squared': 0.2536802260980693, 'Adjusted R-Squared': 0.2536243925712426, 'RMSE': 14.10519937948778, 'Time taken': 0.16628313064575195}\n"
     ]
    },
    {
     "name": "stderr",
     "output_type": "stream",
     "text": [
      " 50%|█████████████████████████████████████████                                         | 21/42 [02:30<00:35,  1.69s/it]"
     ]
    },
    {
     "name": "stdout",
     "output_type": "stream",
     "text": [
      "{'Model': 'LassoCV', 'R-Squared': 0.23538091352537938, 'Adjusted R-Squared': 0.23532371099401173, 'RMSE': 14.277077679857387, 'Time taken': 1.3913214206695557}\n",
      "{'Model': 'LassoLars', 'R-Squared': -0.10978188719008819, 'Adjusted R-Squared': -0.10986491197240933, 'RMSE': 17.2002821605029, 'Time taken': 0.15664982795715332}\n"
     ]
    },
    {
     "name": "stderr",
     "output_type": "stream",
     "text": [
      "\r",
      " 52%|██████████████████████████████████████████▉                                       | 22/42 [02:31<00:28,  1.41s/it]"
     ]
    },
    {
     "name": "stdout",
     "output_type": "stream",
     "text": [
      "{'Model': 'LassoLarsCV', 'R-Squared': 0.23493276952925213, 'Adjusted R-Squared': 0.23487553347142487, 'RMSE': 14.28126097160121, 'Time taken': 0.762768030166626}\n"
     ]
    },
    {
     "name": "stderr",
     "output_type": "stream",
     "text": [
      "\r",
      " 55%|████████████████████████████████████████████▉                                     | 23/42 [02:32<00:20,  1.08s/it]"
     ]
    },
    {
     "name": "stdout",
     "output_type": "stream",
     "text": [
      "{'Model': 'LassoLarsIC', 'R-Squared': 0.20065182203914278, 'Adjusted R-Squared': 0.20059202136187448, 'RMSE': 14.597710609983853, 'Time taken': 0.3045382499694824}\n"
     ]
    },
    {
     "name": "stderr",
     "output_type": "stream",
     "text": [
      "\r",
      " 57%|██████████████████████████████████████████████▊                                   | 24/42 [02:32<00:14,  1.22it/s]"
     ]
    },
    {
     "name": "stdout",
     "output_type": "stream",
     "text": [
      "{'Model': 'LinearRegression', 'R-Squared': 0.20065182203918397, 'Adjusted R-Squared': 0.20059202136191567, 'RMSE': 14.597710609983476, 'Time taken': 0.21967625617980957}\n"
     ]
    },
    {
     "name": "stderr",
     "output_type": "stream",
     "text": [
      "\r",
      " 60%|████████████████████████████████████████████████▊                                 | 25/42 [02:39<00:46,  2.74s/it]"
     ]
    },
    {
     "name": "stdout",
     "output_type": "stream",
     "text": [
      "{'Model': 'LinearSVR', 'R-Squared': 0.31895460870597825, 'Adjusted R-Squared': 0.31890365847331026, 'RMSE': 13.474255688372708, 'Time taken': 7.230592966079712}\n"
     ]
    },
    {
     "name": "stderr",
     "output_type": "stream",
     "text": [
      "\r",
      " 62%|██████████████████████████████████████████████████▊                               | 26/42 [05:57<16:21, 61.35s/it]"
     ]
    },
    {
     "name": "stdout",
     "output_type": "stream",
     "text": [
      "{'Model': 'MLPRegressor', 'R-Squared': 0.26232545083699454, 'Adjusted R-Squared': 0.2622702640750054, 'RMSE': 14.023265453078125, 'Time taken': 198.08842015266418}\n"
     ]
    }
   ],
   "source": [
    "regressor = LazyRegressor(verbose = 1, ignore_warnings=False)\n",
    "models, predictions = regressor.fit(x_train,x_test,y_train,y_test)\n",
    "print(models)"
   ]
  },
  {
   "cell_type": "code",
   "execution_count": null,
   "id": "fd88fe87",
   "metadata": {},
   "outputs": [],
   "source": []
  }
 ],
 "metadata": {
  "kernelspec": {
   "display_name": "Python 3 (ipykernel)",
   "language": "python",
   "name": "python3"
  },
  "language_info": {
   "codemirror_mode": {
    "name": "ipython",
    "version": 3
   },
   "file_extension": ".py",
   "mimetype": "text/x-python",
   "name": "python",
   "nbconvert_exporter": "python",
   "pygments_lexer": "ipython3",
   "version": "3.10.7"
  }
 },
 "nbformat": 4,
 "nbformat_minor": 5
}
